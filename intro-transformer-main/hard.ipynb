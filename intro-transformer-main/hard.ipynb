{
 "cells": [
  {
   "cell_type": "markdown",
   "id": "6cd8656c",
   "metadata": {},
   "source": [
    "# Transformer"
   ]
  },
  {
   "cell_type": "markdown",
   "id": "640192b6",
   "metadata": {},
   "source": [
    "Let's implement simple transformer using PyTorch!"
   ]
  },
  {
   "cell_type": "code",
   "execution_count": 1,
   "id": "8fddec35-83d0-4322-8048-3052c0b523d2",
   "metadata": {},
   "outputs": [
    {
     "data": {
      "text/plain": [
       "<torch._C.Generator at 0x7190001c3490>"
      ]
     },
     "execution_count": 1,
     "metadata": {},
     "output_type": "execute_result"
    }
   ],
   "source": [
    "import torch\n",
    "import torch.nn as nn\n",
    "from torch.nn import functional as fn\n",
    "from tqdm import tqdm\n",
    "\n",
    "import math\n",
    "from importlib import reload\n",
    "\n",
    "torch.manual_seed(5678)"
   ]
  },
  {
   "cell_type": "markdown",
   "id": "a8bb25e8",
   "metadata": {},
   "source": [
    "If you have cuda available on your machine, then let's take advantage of it to help make the computation go faster."
   ]
  },
  {
   "cell_type": "code",
   "execution_count": 2,
   "id": "83f15fd9",
   "metadata": {},
   "outputs": [
    {
     "data": {
      "text/plain": [
       "'cuda'"
      ]
     },
     "execution_count": 2,
     "metadata": {},
     "output_type": "execute_result"
    }
   ],
   "source": [
    "device = 'cuda' if torch.cuda.is_available() else 'cpu'\n",
    "device"
   ]
  },
  {
   "cell_type": "markdown",
   "id": "fe2f49c3",
   "metadata": {},
   "source": [
    "Let's set some configurations for the neural network."
   ]
  },
  {
   "cell_type": "code",
   "execution_count": 3,
   "id": "96476324-cbfc-4923-9649-2bb812ede07d",
   "metadata": {},
   "outputs": [],
   "source": [
    "class Config():\n",
    "    def __init__(self, context_size, batch_size,\n",
    "        n_blocks=1, n_heads=2, embed_size=8, weight_tying=False):\n",
    "        self.n_blocks = n_blocks\n",
    "        self.n_heads = n_heads\n",
    "        self.embed_size = embed_size\n",
    "        self.context_size = context_size\n",
    "        self.batch_size = batch_size\n",
    "        self.weight_tying = weight_tying\n"
   ]
  },
  {
   "cell_type": "code",
   "execution_count": 4,
   "id": "bc309ff8-e957-4a04-b038-68aa48e2d75c",
   "metadata": {},
   "outputs": [],
   "source": [
    "config = Config(\n",
    "    context_size = 16,\n",
    "    batch_size = 128,\n",
    "    n_blocks = 1,\n",
    "    n_heads = 2,\n",
    "    embed_size = 8,\n",
    "    weight_tying = False,\n",
    ")"
   ]
  },
  {
   "cell_type": "markdown",
   "id": "4e4fdaa3",
   "metadata": {},
   "source": [
    "The preprocessing is somewhat involved. If you wish to see how this is done, you can examine `utils/preprocess.py` to see how this is done.\n",
    "\n",
    "Transformers have a fixed context size, so if our sequences are too short, we must pad them. One reasonable choice is to pad the sequence on the left with our token for marking the start of a sequence `^`.\n",
    "\n",
    "We also add a termination token `$` to mark the end of each sequence.\n",
    "\n",
    "Because we are serious about machine learning, we always split our data at least into training and testing before we start training."
   ]
  },
  {
   "cell_type": "code",
   "execution_count": 5,
   "id": "181deb69-f140-4d09-92f8-796583adb60d",
   "metadata": {},
   "outputs": [
    {
     "data": {
      "text/plain": [
       "(411, 45)"
      ]
     },
     "execution_count": 5,
     "metadata": {},
     "output_type": "execute_result"
    }
   ],
   "source": [
    "import utils.preprocess as pp\n",
    "reload(pp)\n",
    "\n",
    "dataset = pp.ShortSequenceDataset('data/restriction-sites.txt',\n",
    "    context_size=config.context_size, batch_size=config.batch_size\n",
    ").to(device)\n",
    "\n",
    "config.vocab_size = len(dataset.vocab)\n",
    "config.init_code = dataset.init_code\n",
    "\n",
    "data_train, data_test = torch.utils.data.random_split(dataset, [0.9, 0.1])\n",
    "\n",
    "(len(data_train), len(data_test))"
   ]
  },
  {
   "cell_type": "markdown",
   "id": "17425579",
   "metadata": {},
   "source": [
    "Let's examine the first three sample. Each sample consists of the encoded sequence, as well as the targets to be predicted."
   ]
  },
  {
   "cell_type": "code",
   "execution_count": 6,
   "id": "d28c037c-e60d-4ee3-9029-42e9e05e32d1",
   "metadata": {},
   "outputs": [
    {
     "data": {
      "text/plain": [
       "(tensor([[30, 30, 30, 30, 30, 30, 30, 19, 19,  4, 17, 19, 17, 19, 17, 17],\n",
       "         [30, 30, 30, 30, 30, 30, 17, 26, 17, 15, 19,  1, 14,  4, 12,  2],\n",
       "         [30, 30, 30, 30, 30, 30, 30, 30, 30, 19, 26, 23,  4, 23, 15, 17]],\n",
       "        device='cuda:0'),\n",
       " tensor([[30, 30, 30, 30, 30, 30, 19, 19,  4, 17, 19, 17, 19, 17, 17,  0],\n",
       "         [30, 30, 30, 30, 30, 17, 26, 17, 15, 19,  1, 14,  4, 12,  2,  0],\n",
       "         [30, 30, 30, 30, 30, 30, 30, 30, 19, 26, 23,  4, 23, 15, 17,  0]],\n",
       "        device='cuda:0'))"
      ]
     },
     "execution_count": 6,
     "metadata": {},
     "output_type": "execute_result"
    }
   ],
   "source": [
    "data_train[0:3]"
   ]
  },
  {
   "cell_type": "markdown",
   "id": "9d73ee6e",
   "metadata": {},
   "source": [
    "In this exercise, we are interested in next-token prediction, so the target which is just the encoded sequence right-shifted.\n",
    "We can see this by decoding one of the sample sequence and the target."
   ]
  },
  {
   "cell_type": "code",
   "execution_count": 7,
   "id": "3c1b7577-c8a7-4dde-95d4-07278277f1ce",
   "metadata": {},
   "outputs": [
    {
     "name": "stdout",
     "output_type": "stream",
     "text": [
      "^^^^^^^^^A/CCGGT\n",
      "^^^^^^^^A/CCGGT$\n"
     ]
    }
   ],
   "source": [
    "print(dataset.decode(dataset[7][0]))\n",
    "print(dataset.decode(dataset[7][1]))"
   ]
  },
  {
   "cell_type": "markdown",
   "id": "b4a6248b",
   "metadata": {},
   "source": [
    "Now, we are ready to start implementing our transformer!\n",
    "\n",
    "Each transfomer block consists of an attention module, followed by a feedforward module.\n",
    "\n",
    "The feedforward module is a **feedforward neural network** with one hidden layer and one output layer (which is also known as a **multilayer perceptron**.) The hidden layer in our network uses the **Gaussian Error Linear Unit** (GELU) transfer function. Other common transfer functions include the **Rectified Linear Unit** (RELU) and the **sigmoid function**.\n",
    "\n",
    "The **multihead attention** module in the transformer architecture allows each token embedding to be contextualized by the embeddings of other tokens, using attention mechanism."
   ]
  },
  {
   "cell_type": "code",
   "execution_count": 16,
   "id": "b5469e00",
   "metadata": {},
   "outputs": [],
   "source": [
    "class Block(nn.Module):\n",
    "\n",
    "    def __init__(self, config):\n",
    "        super().__init__()\n",
    "        self.attend = Attention(config)\n",
    "        self.feed = Feedforward(config)\n",
    "\n",
    "    def forward(self, X):\n",
    "        X = X + self.attend(X)  # residual connection\n",
    "        X = X + self.feed(X)    # residual connection\n",
    "        return X\n",
    "\n",
    "class Attention(nn.Module):\n",
    "    \"\"\"\n",
    "    Masked multi-head attention.\n",
    "    \"\"\"\n",
    "\n",
    "    def __init__(self, config):\n",
    "        super().__init__()\n",
    "        self.config = config\n",
    "        embed_size = config.embed_size\n",
    "        context_size = config.context_size\n",
    "        # key, query, value projections for all attention heads\n",
    "        self.kqv = ???\n",
    "        # output projection\n",
    "        self.output = ???\n",
    "        # mask out upper diagonal\n",
    "        self.register_buffer(\"mask\", torch.tril(torch.ones(context_size, context_size))\n",
    "            .view(1, 1, context_size, context_size))\n",
    "\n",
    "    def forward(self, X):\n",
    "        # batch size, sequence length, and embedding dimensionality\n",
    "        B, T, D = X.shape\n",
    "\n",
    "        embed_size = self.config.embed_size\n",
    "        n_heads = self.config.n_heads\n",
    "\n",
    "        # (B, D, 3*D)  -> (B, D, D)\n",
    "        # multiple each weight matrix with data and split\n",
    "        query, key, value = self.kqv(X).split(embed_size, dim=2)\n",
    "        # (B, D, D) -> (B, H, T, D/H)\n",
    "        key = key.view(B, T, n_heads, D // n_heads).transpose(1, 2)  \n",
    "        query = query.view(B, T, n_heads, D // n_heads).transpose(1, 2)  \n",
    "        value = value.view(B, T, n_heads, D // n_heads).transpose(1, 2)  \n",
    "\n",
    "        # (B, H, T, D/H) @ (B, H, D/H, T) -> (B, H, T, T)\n",
    "        att = ???\n",
    "        att = att.masked_fill(self.mask[:, :, :T, :T] == 0, float('-inf'))\n",
    "        att = ???\n",
    "\n",
    "        # (B, H, T, T) @ (B, H, T, D/H) -> (B, H, T, D/H)\n",
    "        Y = att @ ???\n",
    "\n",
    "        # re-assemble outputs from all heads\n",
    "        Y = Y.transpose(1, 2).contiguous().view(B, T, D)\n",
    "\n",
    "        # linear map of all heads together\n",
    "        Y = self.output(Y)\n",
    "        return Y\n",
    "\n",
    "class Feedforward(nn.Module):\n",
    "    \"\"\"\n",
    "    Feedforward network.\n",
    "    \"\"\"\n",
    "\n",
    "    def __init__(self, config):\n",
    "        super().__init__()\n",
    "        self.config = config\n",
    "        embed_size = config.embed_size\n",
    "        self.hidden = nn.Linear(embed_size, 4*embed_size)\n",
    "        self.gelu = nn.GELU()\n",
    "        self.output = nn.Linear(4*embed_size, embed_size)\n",
    "    \n",
    "    def forward(self, X):\n",
    "        X = self.hidden(X)\n",
    "        X = self.gelu(X)\n",
    "        X = self.output(X)\n",
    "        return X\n"
   ]
  },
  {
   "cell_type": "markdown",
   "id": "ae1f5ffb",
   "metadata": {},
   "source": [
    "Now that the transformer block is implemented, we now implement GPT model."
   ]
  },
  {
   "cell_type": "code",
   "execution_count": 9,
   "id": "7e3913bc-c6b1-4e5c-8d0f-51284a276dab",
   "metadata": {},
   "outputs": [],
   "source": [
    "class GPT(nn.Module):\n",
    "    \n",
    "    def __init__(self, config):\n",
    "        super().__init__()\n",
    "        self.config = config\n",
    "        self.token_embed = ???\n",
    "        self.pos_embed = ???\n",
    "        self.blocks = nn.ModuleList([Block(config) for _ in range(config.n_blocks)])\n",
    "        if not config.weight_tying:\n",
    "            self.unembed = nn.Linear(config.embed_size, config.vocab_size, bias=False)\n",
    "\n",
    "    def forward(self, X, Y=None):\n",
    "        # X is (B, T), Y is (B, T)\n",
    "        pos = torch.arange(0, X.shape[1], dtype=torch.long).to(device)\n",
    "        \n",
    "        token_embeds = self.token_embed(X)  # (B, T, D)\n",
    "        pos_embeds = self.pos_embed(pos)    # (B, T, D)\n",
    "        embeds = token_embeds + pos_embeds\n",
    "\n",
    "        for block in self.blocks:\n",
    "            embeds = block(embeds)\n",
    "\n",
    "        if config.weight_tying:\n",
    "            # tie the unembedding weights to the embedding weights\n",
    "            # linear function transposes the weight\n",
    "            logits = fn.linear(embeds, self.token_embed.weight) # (B, T, C)\n",
    "        else:\n",
    "            logits = self.unembed(embeds)  # (B, T, C)\n",
    "\n",
    "        if Y is None:\n",
    "            loss = None\n",
    "        else:\n",
    "            B, T, C = logits.shape\n",
    "            logits = logits.view(B*T, C)\n",
    "            Y = Y.view(B*T)\n",
    "            loss = ???\n",
    "        \n",
    "        return logits, loss\n",
    "\n",
    "    @torch.no_grad()\n",
    "    def sample(self, size, n=1, X=None, temperature=1.0):\n",
    "        \"\"\"\n",
    "        Generate n new sequences of specified size given context X.\n",
    "        \"\"\"\n",
    "        if X is None:\n",
    "            X = (torch.tensor([[config.init_code]])\n",
    "                .repeat(n, 1).to(device))\n",
    "        for _ in range(size):\n",
    "            if X.size(1) > self.config.context_size:\n",
    "                # sequence context is too long; crop it to context_size\n",
    "                X_cropped = X[:, -self.config.context_size:]\n",
    "            else:\n",
    "                X_cropped = X\n",
    "            # get prediction\n",
    "            logits, _ = self(X_cropped)\n",
    "            # get last time step and scale by temperature\n",
    "            logits = logits[:, -1, :] / temperature\n",
    "            probs = ???\n",
    "            x_new = ???\n",
    "            X = torch.cat((X, x_new), dim=1)   # (B, T+1)\n",
    "        return X"
   ]
  },
  {
   "cell_type": "markdown",
   "id": "444cb45e",
   "metadata": {},
   "source": [
    "Phew! That was a lot of code.\n",
    "\n",
    "Now, it is time to take our GPT model for a test drive!"
   ]
  },
  {
   "cell_type": "code",
   "execution_count": 10,
   "id": "710498e1-202f-4ebc-bdb0-a7b77a7bcd5d",
   "metadata": {},
   "outputs": [],
   "source": [
    "model = GPT(config).to(device)"
   ]
  },
  {
   "cell_type": "markdown",
   "id": "e95f9fa3",
   "metadata": {},
   "source": [
    "Before training, our model has high loss, and it generates nonsensical sequence. We'll forgive our model, since it has not been trained on data yet."
   ]
  },
  {
   "cell_type": "code",
   "execution_count": 11,
   "id": "af0b0677-1c22-4e76-9031-b05949807a00",
   "metadata": {},
   "outputs": [
    {
     "name": "stdout",
     "output_type": "stream",
     "text": [
      "tensor(3.4116, device='cuda:0', grad_fn=<NllLossBackward0>)\n"
     ]
    },
    {
     "data": {
      "text/plain": [
       "['78A67NB-7TM407',\n",
       " 'MNDG32CH3C_Y4KY',\n",
       " '-V64H/88392KG2)Y',\n",
       " '505S7YB-0)YS1K',\n",
       " 'G531H7D20/S)S9(',\n",
       " 'V7WRS_GH9-)9M26',\n",
       " '9-5C1D03(WWYWT6',\n",
       " 'YDNC0R669-__91',\n",
       " '/4S1B0G_6NHD28__',\n",
       " '875V/693AW5/5B1']"
      ]
     },
     "execution_count": 11,
     "metadata": {},
     "output_type": "execute_result"
    }
   ],
   "source": [
    "X0, y0 = data_train[0:3]\n",
    "logits, loss = model(X0, y0)\n",
    "\n",
    "print(loss)\n",
    "dataset.decode( model.sample(16, n=10), strip=True )"
   ]
  },
  {
   "cell_type": "markdown",
   "id": "f465f98a",
   "metadata": {},
   "source": [
    "Our data has been preprocessed. Our model has been implemented and instantiated. Now, all that is left to do is to train our model. Yippee!"
   ]
  },
  {
   "cell_type": "code",
   "execution_count": 17,
   "id": "498c75ee-be50-4217-983c-2be18d3923a4",
   "metadata": {},
   "outputs": [
    {
     "name": "stderr",
     "output_type": "stream",
     "text": [
      "100%|██████████| 50/50 [00:00<00:00, 135.84it/s]\n"
     ]
    }
   ],
   "source": [
    "import utils.train as tr\n",
    "reload(tr)\n",
    "\n",
    "optim = torch.optim.AdamW(model.parameters(), lr=1e-4)\n",
    "\n",
    "model, losses_train, losses_test = tr.train(model, optim,\n",
    "    data_train, data_test, config, n_epochs=50)"
   ]
  },
  {
   "cell_type": "markdown",
   "id": "e831861a",
   "metadata": {},
   "source": [
    "Now's the moment we've all been waiting for... how well does our trained model do?"
   ]
  },
  {
   "cell_type": "code",
   "execution_count": 14,
   "id": "787a7ca1-0106-4ab5-ada4-c6d8f94cef19",
   "metadata": {},
   "outputs": [
    {
     "name": "stdout",
     "output_type": "stream",
     "text": [
      "loss: (train: 0.8016835451126099, test: 0.8608261942863464)\n"
     ]
    },
    {
     "data": {
      "text/plain": [
       "['RYGA/NC',\n",
       " 'C/CNTAG',\n",
       " 'TCCNNGA',\n",
       " 'GC/TCATA(_/21)',\n",
       " 'ATCC/CNAG',\n",
       " 'R/ATTTY',\n",
       " 'CAYTG(8/7)',\n",
       " 'AAT/NGG',\n",
       " 'N/RGGT',\n",
       " 'G/CCCTC']"
      ]
     },
     "execution_count": 14,
     "metadata": {},
     "output_type": "execute_result"
    }
   ],
   "source": [
    "print(f\"loss: (train: {losses_train[-1]}, test: {losses_test[-1]})\")\n",
    "dataset.decode( model.sample(16, n=10), strip=True )"
   ]
  },
  {
   "cell_type": "code",
   "execution_count": 15,
   "id": "e6ac2486",
   "metadata": {},
   "outputs": [
    {
     "data": {
      "image/png": "[encoded data removed]"
     },
     "metadata": {
      "image/png": {
       "height": 480,
       "width": 640
      }
     },
     "output_type": "display_data"
    }
   ],
   "source": [
    "from utils.plot import plot_loss\n",
    "\n",
    "plot_loss(losses_train, losses_test)"
   ]
  },
  {
   "cell_type": "markdown",
   "id": "2686fe83",
   "metadata": {},
   "source": [
    "### Questions\n",
    "\n",
    "1. How well does our model do after 50 epochs of training?\n",
    "   How can we do better?\n",
    "\n",
    "2. Play with the config values (hyperparameters).\n",
    "   How can you improve the model performance?\n",
    "\n",
    "3. What can you conclude from the training and test losses for a model\n",
    "   with vs. without weight tying?\n",
    "   (Hint: You will need to run at least 1000 epochs.)"
   ]
  },
  {
   "cell_type": "markdown",
   "id": "b4594341",
   "metadata": {},
   "source": [
    "### Bonus questions\n",
    "\n",
    "1. Compared against the [transformer paper][1], our transformer is missing\n",
    "   a few things. Implement the layer normalization and see how the model\n",
    "   performs.\n",
    "   (Hint: It is now known that implementing layer normalization\n",
    "   **before** each of the attention and feedforward modules\n",
    "   rather than after could produce more performant models.)\n",
    "\n",
    "2. The transformer paper also uses drop-out layers. Add them to the model.\n",
    "\n",
    "\n",
    "[1]: https://arxiv.org/abs/1706.03762"
   ]
  }
 ],
 "metadata": {
  "kernelspec": {
   "display_name": "Python 3 (ipykernel)",
   "language": "python",
   "name": "python3"
  },
  "language_info": {
   "codemirror_mode": {
    "name": "ipython",
    "version": 3
   },
   "file_extension": ".py",
   "mimetype": "text/x-python",
   "name": "python",
   "nbconvert_exporter": "python",
   "pygments_lexer": "ipython3",
   "version": "3.9.19"
  }
 },
 "nbformat": 4,
 "nbformat_minor": 5
}
